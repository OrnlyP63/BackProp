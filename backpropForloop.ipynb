{
 "cells": [
  {
   "cell_type": "code",
   "execution_count": 1,
   "metadata": {},
   "outputs": [],
   "source": [
    "import numpy as np"
   ]
  },
  {
   "cell_type": "code",
   "execution_count": 2,
   "metadata": {},
   "outputs": [],
   "source": [
    "W1 = np.array([[0.2, -0.3],\n",
    "               [0.4, 0.1],\n",
    "               [-0.5, 0.2]])\n",
    "\n",
    "W2 = np.array([[-0.3],\n",
    "               [-0.2]])\n",
    "\n",
    "b1 = np.array([[-0.4, 0.2]])\n",
    "b2 = np.array([[0.1]])"
   ]
  },
  {
   "cell_type": "code",
   "execution_count": 3,
   "metadata": {},
   "outputs": [],
   "source": [
    "sigmoid = lambda x: 1/(1 + np.exp(-x))\n",
    "learning_rate = -0.9"
   ]
  },
  {
   "cell_type": "code",
   "execution_count": 4,
   "metadata": {},
   "outputs": [],
   "source": [
    "X = np.array([[1, 0, 1]])\n",
    "Y = np.array([[1]])"
   ]
  },
  {
   "cell_type": "code",
   "execution_count": 5,
   "metadata": {},
   "outputs": [],
   "source": [
    "for _ in range(100):\n",
    "    z1 = X.dot(W1) + b1\n",
    "    a1 = sigmoid(z1)\n",
    "    z2 = a1.dot(W2) + b2\n",
    "    a2 = sigmoid(z2)\n",
    "\n",
    "    err = Y - a2\n",
    "    if err <= 0.01:\n",
    "        break\n",
    "    gredOut = a2*(1 - a2)*err\n",
    "    gredH = a1 * (1 - a1) * gredOut.dot(W2.T)\n",
    "\n",
    "    W2 = W2 - learning_rate *  a1.T.dot(gredOut)\n",
    "    b2 = b2 - learning_rate * gredOut\n",
    "\n",
    "    W1 = W1 - learning_rate * X.T.dot(gredH)\n",
    "    b1 = b1 - learning_rate * gredH"
   ]
  },
  {
   "cell_type": "code",
   "execution_count": 6,
   "metadata": {},
   "outputs": [
    {
     "data": {
      "text/plain": [
       "array([[0.06926646]])"
      ]
     },
     "execution_count": 6,
     "metadata": {},
     "output_type": "execute_result"
    }
   ],
   "source": [
    "err"
   ]
  },
  {
   "cell_type": "code",
   "execution_count": 7,
   "metadata": {},
   "outputs": [
    {
     "data": {
      "text/plain": [
       "array([[0.93073354]])"
      ]
     },
     "execution_count": 7,
     "metadata": {},
     "output_type": "execute_result"
    }
   ],
   "source": [
    "a2"
   ]
  },
  {
   "cell_type": "code",
   "execution_count": 9,
   "metadata": {},
   "outputs": [
    {
     "data": {
      "text/plain": [
       "array([[ 0.37263466,  0.32432849],\n",
       "       [ 0.24178798, -0.27892379],\n",
       "       [-0.10580403,  0.19448586]])"
      ]
     },
     "execution_count": 9,
     "metadata": {},
     "output_type": "execute_result"
    }
   ],
   "source": [
    "np.random.uniform(-1,1,[3,2])"
   ]
  },
  {
   "cell_type": "code",
   "execution_count": null,
   "metadata": {},
   "outputs": [],
   "source": [
    "class ANN:\n",
    "    def __init__(self, X, y, hidden_node, learning_rate, activate, epoches=100, input_shape):\n",
    "        self.hidden_node = hidden_node\n",
    "        self.learning_rate = learning_rate\n",
    "        self.activate = sigmoid\n",
    "        self.epoches = epoches\n",
    "        self.input_shape = input_shape\n",
    "        self.Weight1 = np.random.uniform(-1, 1, [X.shape[1], hidden_node])\n",
    "        self.Weight2 = np.random.uniform(-1, 1, [hidden_node, y.shape[1]])\n",
    "        self.bias1 = np.random.uniform(-1, 1, [1, hidden_node])\n",
    "        self.bias2 = np.random.uniform(-1, 1, [1, y.shape[1]])\n",
    "        self.X = X\n",
    "        self.y = y\n",
    "        self.activate = sigmoid\n",
    "        \n",
    "    def train(self):\n",
    "        for _ in range(self.epoches):\n",
    "        z1 = self.X.dot(self.Weight1) + self.bias1\n",
    "        a1 = self.activate(z1)\n",
    "        z2 = a1.dot(self.Weight2) + self.bias2\n",
    "        a2 = self.activate(z2)\n",
    "\n",
    "        err = self.y - a2\n",
    "        if err <= 0.01:\n",
    "            break\n",
    "            \n",
    "        gredOut = a2*(1 - a2)*err\n",
    "        gredH = a1 * (1 - a1) * gredOut.dot(self.Weight2.T)\n",
    "\n",
    "        self.Weight2 = self.Weight2 - self.learning_rate *  a1.T.dot(gredOut)\n",
    "        b2 = b2 - self.learning_rate * gredOut\n",
    "\n",
    "        W1 = W1 - self.learning_rate * self.X.T.dot(gredH)\n",
    "        b1 = b1 - self.learning_rate * gredH\n",
    "        \n",
    "    def predict(self,y_valid):\n",
    "        pass"
   ]
  }
 ],
 "metadata": {
  "kernelspec": {
   "display_name": "Python 3",
   "language": "python",
   "name": "python3"
  },
  "language_info": {
   "codemirror_mode": {
    "name": "ipython",
    "version": 3
   },
   "file_extension": ".py",
   "mimetype": "text/x-python",
   "name": "python",
   "nbconvert_exporter": "python",
   "pygments_lexer": "ipython3",
   "version": "3.7.4"
  }
 },
 "nbformat": 4,
 "nbformat_minor": 4
}
